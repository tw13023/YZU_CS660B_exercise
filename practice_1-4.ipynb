{
 "cells": [
  {
   "cell_type": "code",
   "execution_count": 1,
   "metadata": {},
   "outputs": [
    {
     "name": "stdout",
     "output_type": "stream",
     "text": [
      "tensor(160.)\n"
     ]
    }
   ],
   "source": [
    "#------------------------------------------------------------\n",
    "# Practice 1-4\n",
    "# Write a program to estimate f'(1), \n",
    "# when f(x) = g(x) ** 5 and g(x) = x**2 + 1 \n",
    "# -----------------------------------------------------------\n",
    "import torch\n",
    "\n",
    "def dfunc(x):\n",
    "    x = torch.tensor(x, dtype=torch.float32, requires_grad=True)\n",
    "    g = x ** 2 + 1 \n",
    "    f = g ** 5 \n",
    "    f.backward()\n",
    "    return x.grad \n",
    "\n",
    "print(dfunc(1))"
   ]
  },
  {
   "cell_type": "code",
   "execution_count": null,
   "metadata": {},
   "outputs": [],
   "source": []
  }
 ],
 "metadata": {
  "kernelspec": {
   "display_name": "d2l",
   "language": "python",
   "name": "python3"
  },
  "language_info": {
   "codemirror_mode": {
    "name": "ipython",
    "version": 3
   },
   "file_extension": ".py",
   "mimetype": "text/x-python",
   "name": "python",
   "nbconvert_exporter": "python",
   "pygments_lexer": "ipython3",
   "version": "3.11.9"
  }
 },
 "nbformat": 4,
 "nbformat_minor": 2
}
